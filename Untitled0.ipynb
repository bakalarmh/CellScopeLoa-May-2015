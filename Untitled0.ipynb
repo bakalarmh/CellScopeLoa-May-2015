{
 "metadata": {
  "name": "",
  "signature": "sha256:bd3e70a7e2f7dc1f385665f2ecd768f3ba78533758812d4a5c5f013a070114f7"
 },
 "nbformat": 3,
 "nbformat_minor": 0,
 "worksheets": [
  {
   "cells": [
    {
     "cell_type": "code",
     "collapsed": false,
     "input": [
      "bobcat = 548\n",
      "brook = 258\n",
      "\n",
      "bobcat/2"
     ],
     "language": "python",
     "metadata": {},
     "outputs": [
      {
       "metadata": {},
       "output_type": "pyout",
       "prompt_number": 4,
       "text": [
        "274"
       ]
      }
     ],
     "prompt_number": 4
    },
    {
     "cell_type": "code",
     "collapsed": false,
     "input": [
      "Bobcat @ 548 per night\n",
      "George and Marcy\n",
      "Martin and Tammy\n",
      "Adele and David"
     ],
     "language": "python",
     "metadata": {},
     "outputs": []
    }
   ],
   "metadata": {}
  }
 ]
}